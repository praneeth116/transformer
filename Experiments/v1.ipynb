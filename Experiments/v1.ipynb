{
 "cells": [
  {
   "cell_type": "code",
   "execution_count": 1,
   "metadata": {},
   "outputs": [
    {
     "name": "stdout",
     "output_type": "stream",
     "text": [
      "tensor([[ 0.7639,  0.5248],\n",
      "        [-0.2193, -0.8410]], device='mps:0')\n"
     ]
    }
   ],
   "source": [
    "import torch\n",
    "\n",
    "device = torch.device(\"mps\" if torch.backends.mps.is_available() else \"cpu\")\n",
    "tensor = torch.randn(2, 2).to(device)\n",
    "print(tensor)"
   ]
  },
  {
   "cell_type": "code",
   "execution_count": 4,
   "metadata": {},
   "outputs": [
    {
     "data": {
      "text/html": [
       "<div>\n",
       "<style scoped>\n",
       "    .dataframe tbody tr th:only-of-type {\n",
       "        vertical-align: middle;\n",
       "    }\n",
       "\n",
       "    .dataframe tbody tr th {\n",
       "        vertical-align: top;\n",
       "    }\n",
       "\n",
       "    .dataframe thead th {\n",
       "        text-align: right;\n",
       "    }\n",
       "</style>\n",
       "<table border=\"1\" class=\"dataframe\">\n",
       "  <thead>\n",
       "    <tr style=\"text-align: right;\">\n",
       "      <th></th>\n",
       "      <th>English</th>\n",
       "      <th>Telugu</th>\n",
       "    </tr>\n",
       "  </thead>\n",
       "  <tbody>\n",
       "    <tr>\n",
       "      <th>0</th>\n",
       "      <td>rise again.</td>\n",
       "      <td>మళ్లీ ఉదయిస్తాడు.</td>\n",
       "    </tr>\n",
       "    <tr>\n",
       "      <th>1</th>\n",
       "      <td>how do we glorify jehovahs undeserved kindness?</td>\n",
       "      <td>యెహోవా కృపను మనమెలా మహిమపరచవచ్చు?</td>\n",
       "    </tr>\n",
       "    <tr>\n",
       "      <th>2</th>\n",
       "      <td>india also continues to push back economically.</td>\n",
       "      <td>ఆర్థికంగా కూడా భారత్‌ వే గంగా పయనిస్తున్నది.</td>\n",
       "    </tr>\n",
       "    <tr>\n",
       "      <th>3</th>\n",
       "      <td>all transactions are made online.</td>\n",
       "      <td>ఆర్థిక లావాదేవీలన్నీ ఆన్‌లైన్‌లోనే</td>\n",
       "    </tr>\n",
       "    <tr>\n",
       "      <th>4</th>\n",
       "      <td>i love night shoots in my city.</td>\n",
       "      <td>పద్మినీ స్త్రీ రాత్రి వేళల్లో రతికి ఇష్టపడదు.</td>\n",
       "    </tr>\n",
       "  </tbody>\n",
       "</table>\n",
       "</div>"
      ],
      "text/plain": [
       "                                           English  \\\n",
       "0                                      rise again.   \n",
       "1  how do we glorify jehovahs undeserved kindness?   \n",
       "2  india also continues to push back economically.   \n",
       "3                all transactions are made online.   \n",
       "4                  i love night shoots in my city.   \n",
       "\n",
       "                                          Telugu  \n",
       "0                              మళ్లీ ఉదయిస్తాడు.  \n",
       "1              యెహోవా కృపను మనమెలా మహిమపరచవచ్చు?  \n",
       "2   ఆర్థికంగా కూడా భారత్‌ వే గంగా పయనిస్తున్నది.  \n",
       "3             ఆర్థిక లావాదేవీలన్నీ ఆన్‌లైన్‌లోనే  \n",
       "4  పద్మినీ స్త్రీ రాత్రి వేళల్లో రతికి ఇష్టపడదు.  "
      ]
     },
     "execution_count": 4,
     "metadata": {},
     "output_type": "execute_result"
    }
   ],
   "source": [
    "import pandas as pd\n",
    "\n",
    "data = pd.read_csv('../data.csv')\n",
    "data.head()"
   ]
  },
  {
   "cell_type": "code",
   "execution_count": 6,
   "metadata": {},
   "outputs": [
    {
     "name": "stdout",
     "output_type": "stream",
     "text": [
      "The length of the dataset is 200000\n"
     ]
    }
   ],
   "source": [
    "print(f\"The length of the dataset is {len(data)}\")"
   ]
  },
  {
   "cell_type": "code",
   "execution_count": 13,
   "metadata": {},
   "outputs": [
    {
     "name": "stdout",
     "output_type": "stream",
     "text": [
      "ఆర్థిక లావాదేవీలన్నీ ఆన్‌లైన్‌లోనే\n"
     ]
    }
   ],
   "source": [
    "print(data['Telugu'][3])"
   ]
  },
  {
   "cell_type": "code",
   "execution_count": null,
   "metadata": {},
   "outputs": [],
   "source": []
  }
 ],
 "metadata": {
  "kernelspec": {
   "display_name": "projects",
   "language": "python",
   "name": "python3"
  },
  "language_info": {
   "codemirror_mode": {
    "name": "ipython",
    "version": 3
   },
   "file_extension": ".py",
   "mimetype": "text/x-python",
   "name": "python",
   "nbconvert_exporter": "python",
   "pygments_lexer": "ipython3",
   "version": "3.9.21"
  }
 },
 "nbformat": 4,
 "nbformat_minor": 2
}
